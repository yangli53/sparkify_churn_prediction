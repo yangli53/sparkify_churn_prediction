{
 "cells": [
  {
   "cell_type": "code",
   "execution_count": 2,
   "metadata": {
    "scrolled": false
   },
   "outputs": [
    {
     "data": {
      "text/plain": [
       "[Row(artist='Martin Orford', auth='Logged In', firstName='Joseph', gender='M', itemInSession=20, lastName='Morales', length=597.55057, level='free', location='Corpus Christi, TX', method='PUT', page='NextSong', registration=1532063507000, sessionId=292, song='Grand Designs', status=200, ts=1538352011000, userAgent='\"Mozilla/5.0 (Macintosh; Intel Mac OS X 10_9_4) AppleWebKit/537.36 (KHTML, like Gecko) Chrome/36.0.1985.125 Safari/537.36\"', userId='293')]"
      ]
     },
     "execution_count": 2,
     "metadata": {},
     "output_type": "execute_result"
    }
   ],
   "source": [
    "import ibmos2spark\n",
    "# @hidden_cell\n",
    "credentials = {\n",
    "    'endpoint': 'https://s3-api.us-geo.objectstorage.service.networklayer.com',\n",
    "    'service_id': 'iam-ServiceId-2a1faff5-55ca-46ee-907c-82c96452b812',\n",
    "    'iam_service_endpoint': 'https://iam.ng.bluemix.net/oidc/token',\n",
    "    'api_key': 'cCWG4DC3cprFCMmIAxwLBosPq0F5hwxhmbdk-vP9jl5p'\n",
    "}\n",
    "\n",
    "configuration_name = 'os_1462fcc2681249aa94b0c0b6ac6659a0_configs'\n",
    "cos = ibmos2spark.CloudObjectStorage(sc, credentials, configuration_name, 'bluemix_cos')\n",
    "\n",
    "from pyspark.sql import SparkSession\n",
    "spark = SparkSession.builder.getOrCreate()\n",
    "# Since JSON data can be semi-structured and contain additional metadata, it is possible that you might face issues with the DataFrame layout.\n",
    "# Please read the documentation of 'SparkSession.read()' to learn more about the possibilities to adjust the data loading.\n",
    "# PySpark documentation: http://spark.apache.org/docs/2.0.2/api/python/pyspark.sql.html#pyspark.sql.DataFrameReader.json\n",
    "\n",
    "df = spark.read.json(cos.url('medium-sparkify-event-data.json', 'sparkify-donotdelete-pr-vmt8c4cnyehyjq'))\n",
    "df.take(1)"
   ]
  },
  {
   "cell_type": "code",
   "execution_count": 3,
   "metadata": {},
   "outputs": [],
   "source": [
    "# import libraries\n",
    "from pyspark.sql import SparkSession, Window\n",
    "from pyspark.sql.functions import udf, col, lit, avg, count, sum, max, min, desc\n",
    "from pyspark.sql.types import IntegerType, FloatType\n",
    "\n",
    "from pyspark.ml import Pipeline\n",
    "from pyspark.ml.classification import LogisticRegression, RandomForestClassifier, GBTClassifier\n",
    "from pyspark.ml.evaluation import MulticlassClassificationEvaluator\n",
    "from pyspark.ml.feature import VectorAssembler, StandardScaler\n",
    "from pyspark.ml.tuning import CrossValidator, ParamGridBuilder\n",
    "\n",
    "import re\n",
    "import time\n",
    "import datetime\n",
    "import numpy as np\n",
    "import pandas as pd\n",
    "import matplotlib.pyplot as plt\n",
    "import seaborn as sns\n",
    "%matplotlib inline"
   ]
  },
  {
   "cell_type": "markdown",
   "metadata": {},
   "source": [
    "# Load and Clean Dataset\n",
    "\n",
    "Load the medium dataset `medium-sparkify-event-data.json` (242.6MB) through IBM Watson Studio."
   ]
  },
  {
   "cell_type": "code",
   "execution_count": 4,
   "metadata": {},
   "outputs": [],
   "source": [
    "def clean_data(df):\n",
    "    \"\"\"\n",
    "    Clean df\n",
    "    \n",
    "    INPUT:\n",
    "        df - original df\n",
    "        \n",
    "    OUTPUT:\n",
    "        df - clean df with valid userids, \n",
    "             replaced lengths with 0, \n",
    "             replaced artists and songs with None\n",
    "    \"\"\"\n",
    "    df = df.filter(df.userId != '')\n",
    "    df = df.fillna({'length':0, 'artist':'None', 'song':'None'})\n",
    "    \n",
    "    return df"
   ]
  },
  {
   "cell_type": "code",
   "execution_count": 5,
   "metadata": {},
   "outputs": [],
   "source": [
    "df_valid = clean_data(df)"
   ]
  },
  {
   "cell_type": "code",
   "execution_count": 6,
   "metadata": {},
   "outputs": [
    {
     "data": {
      "text/plain": [
       "528005"
      ]
     },
     "execution_count": 6,
     "metadata": {},
     "output_type": "execute_result"
    }
   ],
   "source": [
    "df_valid.count()"
   ]
  },
  {
   "cell_type": "code",
   "execution_count": 7,
   "metadata": {},
   "outputs": [
    {
     "data": {
      "text/plain": [
       "448"
      ]
     },
     "execution_count": 7,
     "metadata": {},
     "output_type": "execute_result"
    }
   ],
   "source": [
    "df_valid.select('userId').dropDuplicates().count()"
   ]
  },
  {
   "cell_type": "markdown",
   "metadata": {},
   "source": [
    "After cleaning, the dataset has 448 unique users with 528,005 valid events and 18 columns. "
   ]
  },
  {
   "cell_type": "markdown",
   "metadata": {},
   "source": [
    "# Feature Engineering"
   ]
  },
  {
   "cell_type": "code",
   "execution_count": 6,
   "metadata": {},
   "outputs": [],
   "source": [
    "def extract_feature(df):\n",
    "    \"\"\"\n",
    "    Extract features and create new columns\n",
    "    \n",
    "    INPUT:\n",
    "        df - clean df\n",
    "        \n",
    "    OUTPUT:\n",
    "        df - df with extracted features\n",
    "    \"\"\"\n",
    "    # create a new column churn\n",
    "    flag_churn_event = udf(lambda x: 1 if x == 'Cancellation Confirmation' else 0, IntegerType())\n",
    "    df = df.withColumn('churnEvent', flag_churn_event('page'))\n",
    "\n",
    "    windowval = Window.partitionBy('userId')\n",
    "    df = df.withColumn('churn', max('churnEvent').over(windowval))\n",
    "    \n",
    "    # create a new column dataRange\n",
    "    df = df.withColumn('dataRange', \n",
    "                       ((max('ts').over(windowval)-min('ts').over(windowval))/1000/3600/24).cast('int'))\n",
    "    \n",
    "    # create a new column countDown \n",
    "    df = df.withColumn('lastEvent', max('ts').over(windowval))\n",
    "    df = df.withColumn('countDown', ((df.lastEvent-df.ts)/1000/3600/24).cast('int'))\n",
    "    \n",
    "    # filter data\n",
    "    df = df.filter((df.dataRange >= 10) & (df.countDown <= 10))\n",
    "    \n",
    "    # create a new column thumbDown\n",
    "    thrumb_down = udf(lambda x: 1 if x == 'Thumbs Down' else 0, IntegerType())\n",
    "    df = df.withColumn('thumbDown', thrumb_down('page'))\n",
    "    \n",
    "    # create a new column downgrade\n",
    "    downgrade = udf(lambda x: 1 if x == 'Downgrade' else 0, IntegerType())\n",
    "    df = df.withColumn('downgrade', downgrade('page'))\n",
    "    \n",
    "    # create a new column ads\n",
    "    roll_advert = udf(lambda x: 1 if x == 'Roll Advert' else 0, IntegerType())\n",
    "    df = df.withColumn('ads', roll_advert('page'))\n",
    "    \n",
    "    return df"
   ]
  },
  {
   "cell_type": "code",
   "execution_count": 7,
   "metadata": {},
   "outputs": [],
   "source": [
    "df_model = extract_feature(df_valid)"
   ]
  },
  {
   "cell_type": "code",
   "execution_count": 8,
   "metadata": {},
   "outputs": [],
   "source": [
    "def engineer_feature(df):\n",
    "    \"\"\"\n",
    "    Create a new df with engineered features for model training\n",
    "    \n",
    "    INPUT:\n",
    "        df - df containing extracted features\n",
    "        \n",
    "    OUTPUT:\n",
    "        data - new df with engineered features\n",
    "    \"\"\"\n",
    "    # convert gender to numerical values F: 0, M: 1\n",
    "    df_gender = df \\\n",
    "        .select('userId','gender').dropDuplicates() \\\n",
    "        .replace({'F':'0', 'M':'1'}, subset='gender') \\\n",
    "        .select('userId', col('gender').cast('int'))\n",
    "    \n",
    "    # extract days being a user\n",
    "    df_servicedays = df \\\n",
    "        .select('userId','churn','registration','ts') \\\n",
    "        .withColumn('serviceDays', (df.ts - df.registration)) \\\n",
    "        .groupby('userId','churn').agg({'serviceDays':'max'}) \\\n",
    "        .select('userId','churn',(col('max(serviceDays)')/1000/3600/24).cast('int').alias('serviceDays'))\n",
    "    \n",
    "    # extract number of thumbs down\n",
    "    df_thumbdown = df \\\n",
    "        .select('userId','thumbDown') \\\n",
    "        .groupby('userId').agg({'thumbDown':'sum'}) \\\n",
    "        .withColumnRenamed('sum(thumbDown)','numThumbdown')\n",
    "    \n",
    "    # extract number of downgrades\n",
    "    df_downgrade = df \\\n",
    "        .select('userId','downgrade') \\\n",
    "        .groupby('userId').agg({'downgrade':'sum'}) \\\n",
    "        .withColumnRenamed('sum(downgrade)','numDowngrade')\n",
    "    \n",
    "    # extract number of ads\n",
    "    df_ads = df \\\n",
    "        .select('userId','ads') \\\n",
    "        .groupby('userId').agg({'ads':'sum'}) \\\n",
    "        .withColumnRenamed('sum(ads)','numAds')\n",
    "    \n",
    "    # combine all features, drop userId and rename churn with label\n",
    "    data = df_gender.join(df_servicedays, 'userID') \\\n",
    "        .join(df_thumbdown, 'userID') \\\n",
    "        .join(df_downgrade, 'userID') \\\n",
    "        .join(df_ads, 'userID') \\\n",
    "        .drop('userID') \\\n",
    "        .withColumnRenamed('churn','label')\n",
    "    \n",
    "    return data"
   ]
  },
  {
   "cell_type": "code",
   "execution_count": 9,
   "metadata": {},
   "outputs": [],
   "source": [
    "data = engineer_feature(df_model)"
   ]
  },
  {
   "cell_type": "markdown",
   "metadata": {},
   "source": [
    "# Modeling"
   ]
  },
  {
   "cell_type": "code",
   "execution_count": 19,
   "metadata": {},
   "outputs": [],
   "source": [
    "# build a pipeline to preprocess the data\n",
    "def preprocess(data):\n",
    "    \"\"\"\n",
    "    Preprocess data for model training: log transformation, \n",
    "                                        combine features, \n",
    "                                        standardize vectors, \n",
    "                                        split data\n",
    "    \n",
    "    INPUT:\n",
    "        data - data containing label and features\n",
    "    \n",
    "    OUTPUT:\n",
    "        train, test sets\n",
    "    \"\"\"\n",
    "    # apply log transformation to numAds, numDowngrade and numThumbdown\n",
    "    data_pd = data.toPandas()\n",
    "    to_trans = ['numAds', 'numDowngrade', 'numThumbdown']\n",
    "\n",
    "    for col in to_trans:\n",
    "        data_pd[col] = data_pd[col].astype('float64').replace(0.0, 0.01) \n",
    "        data_pd[col] = np.log(data_pd[col])\n",
    "    \n",
    "    # convert df to spark df\n",
    "    data = spark.createDataFrame(data_pd)\n",
    "    \n",
    "    # combine features to a vector\n",
    "    cols = data.drop('label').columns\n",
    "    assembler = VectorAssembler(inputCols=cols, outputCol='numFeatures')\n",
    "    data = assembler.transform(data)\n",
    "\n",
    "    # standardize the vectors\n",
    "    scaler = StandardScaler(inputCol='numFeatures', outputCol='features', withStd=True)\n",
    "    scalerModel = scaler.fit(data)\n",
    "    data = scalerModel.transform(data)\n",
    "    \n",
    "    train, test = data.randomSplit([0.8, 0.2], seed=42)\n",
    "    \n",
    "    return train, test"
   ]
  },
  {
   "cell_type": "code",
   "execution_count": 20,
   "metadata": {},
   "outputs": [],
   "source": [
    "train, test = preprocess(data)"
   ]
  },
  {
   "cell_type": "code",
   "execution_count": 12,
   "metadata": {},
   "outputs": [],
   "source": [
    "def model_eval(result, evaluator, test_set):\n",
    "    \"\"\"\n",
    "    Display accuracy, recall and F1 score of test set\n",
    "    \n",
    "    INPUT:\n",
    "        result - result containing predictions (df)\n",
    "        evaluator - evaluator\n",
    "        test_set - name of dataset used in prediction (str)\n",
    "    \"\"\"    \n",
    "    accuracy = evaluator.evaluate(result, {evaluator.metricName: 'accuracy'})\n",
    "    recall = evaluator.evaluate(result, {evaluator.metricName: 'weightedRecall'})\n",
    "    f1 = evaluator.evaluate(result, {evaluator.metricName: 'f1'})\n",
    "    \n",
    "    print(f'\\nAccuracy of {test_set} set: {accuracy}')\n",
    "    print(f'Recall of {test_set} set: {recall}')\n",
    "    print(f'F1 score of {test_set} set: {f1}')"
   ]
  },
  {
   "cell_type": "code",
   "execution_count": 13,
   "metadata": {},
   "outputs": [],
   "source": [
    "def build_model(model, model_name):\n",
    "    \"\"\"\n",
    "    Build a model with 3-fold cross validation and display the evaluation result\n",
    "    \n",
    "    INPUT:\n",
    "        model - model with parameters\n",
    "        model_name - name of the classifier (str)\n",
    "    \n",
    "    OUTPUT:\n",
    "        trained_model - trained model\n",
    "    \"\"\"\n",
    "    # initialize model\n",
    "    model = model\n",
    "\n",
    "    # build paramGrid\n",
    "    paramGrid = ParamGridBuilder().build()\n",
    "\n",
    "    crossval_model = CrossValidator(estimator=model,\n",
    "                                    estimatorParamMaps=paramGrid,\n",
    "                                    evaluator=MulticlassClassificationEvaluator(),\n",
    "                                    numFolds=3)\n",
    "\n",
    "    # train the training set and calculate training time\n",
    "    start = time.time()\n",
    "    trained_model = crossval_model.fit(train)\n",
    "    end = time.time()\n",
    "    train_time = end - start\n",
    "\n",
    "    # predict the traing and validation set\n",
    "    evaluator = MulticlassClassificationEvaluator()\n",
    "    result_train = trained_model.transform(train)\n",
    "    result_test = trained_model.transform(test)\n",
    "    \n",
    "    print(f'{model_name}')\n",
    "    print(f'\\nTraining time: {train_time} seconds')\n",
    "    model_eval(result_train, evaluator, 'train')\n",
    "    model_eval(result_test, evaluator, 'test')\n",
    "    \n",
    "    return trained_model"
   ]
  },
  {
   "cell_type": "markdown",
   "metadata": {},
   "source": [
    "### Baseline model"
   ]
  },
  {
   "cell_type": "code",
   "execution_count": 21,
   "metadata": {},
   "outputs": [
    {
     "name": "stdout",
     "output_type": "stream",
     "text": [
      "\n",
      "Accuracy of test set: 0.8023255813953488\n",
      "Recall of test set: 0.8023255813953488\n",
      "F1 score of test set: 0.7143285821455364\n"
     ]
    }
   ],
   "source": [
    "baseline = test.withColumn('prediction', lit(0.0))\n",
    "evaluator = MulticlassClassificationEvaluator()\n",
    "model_eval(baseline, evaluator, 'test')"
   ]
  },
  {
   "cell_type": "markdown",
   "metadata": {},
   "source": [
    "### Final model"
   ]
  },
  {
   "cell_type": "code",
   "execution_count": 22,
   "metadata": {},
   "outputs": [],
   "source": [
    "clf = LogisticRegression()\n",
    "\n",
    "paramGrid = ParamGridBuilder() \\\n",
    "    .addGrid(clf.maxIter, [10,20]) \\\n",
    "    .addGrid(clf.regParam, [0.0,0.1]) \\\n",
    "    .build()\n",
    "\n",
    "crossval = CrossValidator(estimator=clf,\n",
    "                          estimatorParamMaps=paramGrid,\n",
    "                          evaluator=MulticlassClassificationEvaluator(), \n",
    "                          numFolds=3)"
   ]
  },
  {
   "cell_type": "code",
   "execution_count": 23,
   "metadata": {},
   "outputs": [
    {
     "name": "stdout",
     "output_type": "stream",
     "text": [
      "Tuning time: 20.547040224075317 seconds\n"
     ]
    },
    {
     "data": {
      "text/plain": [
       "[0.7593869476423635,\n",
       " 0.7553979306175745,\n",
       " 0.7593869476423635,\n",
       " 0.7553979306175745]"
      ]
     },
     "execution_count": 23,
     "metadata": {},
     "output_type": "execute_result"
    }
   ],
   "source": [
    "start = time.time()\n",
    "cvModel = crossval.fit(train)\n",
    "end = time.time()\n",
    "\n",
    "print(f'Tuning time: {end - start} seconds')\n",
    "cvModel.avgMetrics"
   ]
  },
  {
   "cell_type": "code",
   "execution_count": 24,
   "metadata": {},
   "outputs": [
    {
     "name": "stdout",
     "output_type": "stream",
     "text": [
      "\n",
      "Accuracy of test set: 0.813953488372093\n",
      "Recall of test set: 0.813953488372093\n",
      "F1 score of test set: 0.7409309037216014\n"
     ]
    }
   ],
   "source": [
    "evaluator = MulticlassClassificationEvaluator()\n",
    "final_result = cvModel.transform(test)\n",
    "model_eval(final_result, evaluator, 'test')"
   ]
  },
  {
   "cell_type": "code",
   "execution_count": 25,
   "metadata": {},
   "outputs": [],
   "source": [
    "best_model = cvModel.bestModel"
   ]
  },
  {
   "cell_type": "markdown",
   "metadata": {},
   "source": [
    "### Feature Importance"
   ]
  },
  {
   "cell_type": "code",
   "execution_count": 27,
   "metadata": {},
   "outputs": [
    {
     "data": {
      "image/png": "[encoded data removed]",
      "text/plain": [
       "<Figure size 432x288 with 1 Axes>"
      ]
     },
     "metadata": {
      "needs_background": "light"
     },
     "output_type": "display_data"
    }
   ],
   "source": [
    "cols = data.drop('label').columns\n",
    "coefficients = best_model.coefficients.values\n",
    "locs = np.arange(len(coefficients)) + 0.5\n",
    "labels = np.array(cols)\n",
    "\n",
    "plt.barh(locs, coefficients, align='center')\n",
    "plt.yticks(locs, labels)\n",
    "# Add annotation\n",
    "for loc, coeff in zip(locs, coefficients):\n",
    "    s = f'{coeff:0.2f}'\n",
    "    plt.text(y=loc, x=coeff+0.1, s=s, ha='center')\n",
    "        \n",
    "plt.xlabel('')\n",
    "plt.title('Logistic Regression Coefficients');"
   ]
  },
  {
   "cell_type": "code",
   "execution_count": 28,
   "metadata": {},
   "outputs": [],
   "source": [
    "cvModel.save('best_gbt')"
   ]
  },
  {
   "cell_type": "code",
   "execution_count": null,
   "metadata": {},
   "outputs": [],
   "source": []
  }
 ],
 "metadata": {
  "kernelspec": {
   "display_name": "Python 3.6 with Spark",
   "language": "python3",
   "name": "python36"
  },
  "language_info": {
   "codemirror_mode": {
    "name": "ipython",
    "version": 3
   },
   "file_extension": ".py",
   "mimetype": "text/x-python",
   "name": "python",
   "nbconvert_exporter": "python",
   "pygments_lexer": "ipython3",
   "version": "3.6.8"
  }
 },
 "nbformat": 4,
 "nbformat_minor": 1
}
